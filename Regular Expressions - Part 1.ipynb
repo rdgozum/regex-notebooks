{
 "cells": [
  {
   "cell_type": "markdown",
   "metadata": {},
   "source": [
    "# REGULAR EXPRESSIONS"
   ]
  },
  {
   "cell_type": "markdown",
   "metadata": {},
   "source": [
    "Basic pattern matching examples using Python Regular Expressions."
   ]
  },
  {
   "cell_type": "markdown",
   "metadata": {},
   "source": [
    "## Text Inputs"
   ]
  },
  {
   "cell_type": "code",
   "execution_count": 1,
   "metadata": {},
   "outputs": [],
   "source": [
    "TEXT = \"\"\"\n",
    "abcdefghijklmnopqurtuvwxyz\n",
    "ABCDEFGHIJKLMNOPQRSTUVWXYZ\n",
    "1234567890\n",
    "\n",
    "Ha HaHa\n",
    "\n",
    "MetaCharacters (Need to be escaped):\n",
    ". ^ $ * + ? { } [ ] \\ | ( )\n",
    "\n",
    "coreyms.com\n",
    "\n",
    "321--555-4321\n",
    "321-555-4321\n",
    "123.555.1234\n",
    "123*555*1234\n",
    "800-555-1234\n",
    "900-555-1234\n",
    "\n",
    "Mr. Schafer\n",
    "Mr Smith\n",
    "Ms Davis\n",
    "Mrs. Robinson\n",
    "Mr. T\n",
    "\n",
    "cat\n",
    "mat\n",
    "pat\n",
    "bat\n",
    "\"\"\"\n",
    "\n",
    "TEXT2 = \"Start a sentence and then bring it to an end\""
   ]
  },
  {
   "cell_type": "markdown",
   "metadata": {},
   "source": [
    "## Code Snippets"
   ]
  },
  {
   "cell_type": "code",
   "execution_count": 2,
   "metadata": {},
   "outputs": [],
   "source": [
    "import re"
   ]
  },
  {
   "cell_type": "code",
   "execution_count": 3,
   "metadata": {},
   "outputs": [],
   "source": [
    "def print_matches(matches, text):\n",
    "    for index, match in enumerate(matches):\n",
    "        if index == 5:\n",
    "            break\n",
    "        \n",
    "        start = match.span(0)[0]\n",
    "        end = match.span(0)[1]\n",
    "        \n",
    "        print(f\"--- RESULT {index + 1} ---\")\n",
    "        print(f\"OBJECT: {match}\")\n",
    "        print(f\"INDICES: {match.span(0)}\")\n",
    "        print(f\"STRING: {text[start:end]}\")\n",
    "        print(\"\\n\")"
   ]
  },
  {
   "cell_type": "markdown",
   "metadata": {},
   "source": [
    "### A. Letter Pattern"
   ]
  },
  {
   "cell_type": "code",
   "execution_count": 4,
   "metadata": {},
   "outputs": [
    {
     "name": "stdout",
     "output_type": "stream",
     "text": [
      "--- RESULT 1 ---\n",
      "OBJECT: <re.Match object; span=(1, 4), match='abc'>\n",
      "INDICES: (1, 4)\n",
      "STRING: abc\n",
      "\n",
      "\n"
     ]
    }
   ],
   "source": [
    "pattern = re.compile(r\"abc\")\n",
    "matches = pattern.finditer(TEXT)\n",
    "print_matches(matches, TEXT)"
   ]
  },
  {
   "cell_type": "markdown",
   "metadata": {},
   "source": [
    "### B. Dot Pattern"
   ]
  },
  {
   "cell_type": "code",
   "execution_count": 5,
   "metadata": {},
   "outputs": [
    {
     "name": "stdout",
     "output_type": "stream",
     "text": [
      "--- RESULT 1 ---\n",
      "OBJECT: <re.Match object; span=(113, 114), match='.'>\n",
      "INDICES: (113, 114)\n",
      "STRING: .\n",
      "\n",
      "\n",
      "--- RESULT 2 ---\n",
      "OBJECT: <re.Match object; span=(149, 150), match='.'>\n",
      "INDICES: (149, 150)\n",
      "STRING: .\n",
      "\n",
      "\n",
      "--- RESULT 3 ---\n",
      "OBJECT: <re.Match object; span=(185, 186), match='.'>\n",
      "INDICES: (185, 186)\n",
      "STRING: .\n",
      "\n",
      "\n",
      "--- RESULT 4 ---\n",
      "OBJECT: <re.Match object; span=(189, 190), match='.'>\n",
      "INDICES: (189, 190)\n",
      "STRING: .\n",
      "\n",
      "\n",
      "--- RESULT 5 ---\n",
      "OBJECT: <re.Match object; span=(237, 238), match='.'>\n",
      "INDICES: (237, 238)\n",
      "STRING: .\n",
      "\n",
      "\n"
     ]
    }
   ],
   "source": [
    "pattern = re.compile(r\"\\.\")\n",
    "matches = pattern.finditer(TEXT)\n",
    "print_matches(matches, TEXT)"
   ]
  },
  {
   "cell_type": "markdown",
   "metadata": {},
   "source": [
    "### C. URL Pattern"
   ]
  },
  {
   "cell_type": "code",
   "execution_count": 6,
   "metadata": {
    "scrolled": true
   },
   "outputs": [
    {
     "name": "stdout",
     "output_type": "stream",
     "text": [
      "--- RESULT 1 ---\n",
      "OBJECT: <re.Match object; span=(142, 153), match='coreyms.com'>\n",
      "INDICES: (142, 153)\n",
      "STRING: coreyms.com\n",
      "\n",
      "\n"
     ]
    }
   ],
   "source": [
    "pattern = re.compile(r\"coreyms\\.com\")\n",
    "matches = pattern.finditer(TEXT)\n",
    "print_matches(matches, TEXT)"
   ]
  },
  {
   "cell_type": "markdown",
   "metadata": {},
   "source": [
    "### D. Digit Pattern"
   ]
  },
  {
   "cell_type": "code",
   "execution_count": 7,
   "metadata": {},
   "outputs": [
    {
     "name": "stdout",
     "output_type": "stream",
     "text": [
      "--- RESULT 1 ---\n",
      "OBJECT: <re.Match object; span=(55, 56), match='1'>\n",
      "INDICES: (55, 56)\n",
      "STRING: 1\n",
      "\n",
      "\n",
      "--- RESULT 2 ---\n",
      "OBJECT: <re.Match object; span=(56, 57), match='2'>\n",
      "INDICES: (56, 57)\n",
      "STRING: 2\n",
      "\n",
      "\n",
      "--- RESULT 3 ---\n",
      "OBJECT: <re.Match object; span=(57, 58), match='3'>\n",
      "INDICES: (57, 58)\n",
      "STRING: 3\n",
      "\n",
      "\n",
      "--- RESULT 4 ---\n",
      "OBJECT: <re.Match object; span=(58, 59), match='4'>\n",
      "INDICES: (58, 59)\n",
      "STRING: 4\n",
      "\n",
      "\n",
      "--- RESULT 5 ---\n",
      "OBJECT: <re.Match object; span=(59, 60), match='5'>\n",
      "INDICES: (59, 60)\n",
      "STRING: 5\n",
      "\n",
      "\n"
     ]
    }
   ],
   "source": [
    "pattern = re.compile(r\"\\d\")\n",
    "matches = pattern.finditer(TEXT)\n",
    "print_matches(matches, TEXT)"
   ]
  },
  {
   "cell_type": "markdown",
   "metadata": {},
   "source": [
    "### E. Boundary Pattern"
   ]
  },
  {
   "cell_type": "code",
   "execution_count": 8,
   "metadata": {},
   "outputs": [
    {
     "name": "stdout",
     "output_type": "stream",
     "text": [
      "--- RESULT 1 ---\n",
      "OBJECT: <re.Match object; span=(67, 69), match='Ha'>\n",
      "INDICES: (67, 69)\n",
      "STRING: Ha\n",
      "\n",
      "\n",
      "--- RESULT 2 ---\n",
      "OBJECT: <re.Match object; span=(70, 72), match='Ha'>\n",
      "INDICES: (70, 72)\n",
      "STRING: Ha\n",
      "\n",
      "\n"
     ]
    }
   ],
   "source": [
    "pattern = re.compile(r\"\\bHa\")\n",
    "matches = pattern.finditer(TEXT)\n",
    "print_matches(matches, TEXT)"
   ]
  },
  {
   "cell_type": "markdown",
   "metadata": {},
   "source": [
    "### F. Beginning Pattern"
   ]
  },
  {
   "cell_type": "code",
   "execution_count": 9,
   "metadata": {},
   "outputs": [
    {
     "name": "stdout",
     "output_type": "stream",
     "text": [
      "--- RESULT 1 ---\n",
      "OBJECT: <re.Match object; span=(0, 5), match='Start'>\n",
      "INDICES: (0, 5)\n",
      "STRING: Start\n",
      "\n",
      "\n"
     ]
    }
   ],
   "source": [
    "pattern = re.compile(r\"^Start\")\n",
    "matches = pattern.finditer(TEXT2)\n",
    "print_matches(matches, TEXT2)"
   ]
  },
  {
   "cell_type": "markdown",
   "metadata": {},
   "source": [
    "### G. Ending Pattern"
   ]
  },
  {
   "cell_type": "code",
   "execution_count": 10,
   "metadata": {},
   "outputs": [
    {
     "name": "stdout",
     "output_type": "stream",
     "text": [
      "--- RESULT 1 ---\n",
      "OBJECT: <re.Match object; span=(41, 44), match='end'>\n",
      "INDICES: (41, 44)\n",
      "STRING: end\n",
      "\n",
      "\n"
     ]
    }
   ],
   "source": [
    "pattern = re.compile(r\"end$\")\n",
    "matches = pattern.finditer(TEXT2)\n",
    "print_matches(matches, TEXT2)"
   ]
  }
 ],
 "metadata": {
  "kernelspec": {
   "display_name": "Python 3",
   "language": "python",
   "name": "python3"
  },
  "language_info": {
   "codemirror_mode": {
    "name": "ipython",
    "version": 3
   },
   "file_extension": ".py",
   "mimetype": "text/x-python",
   "name": "python",
   "nbconvert_exporter": "python",
   "pygments_lexer": "ipython3",
   "version": "3.7.0"
  }
 },
 "nbformat": 4,
 "nbformat_minor": 4
}
