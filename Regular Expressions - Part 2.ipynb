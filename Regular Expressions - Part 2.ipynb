{
 "cells": [
  {
   "cell_type": "markdown",
   "metadata": {},
   "source": [
    "# REGULAR EXPRESSIONS"
   ]
  },
  {
   "cell_type": "markdown",
   "metadata": {},
   "source": [
    "Basic pattern matching examples using Python Regular Expressions."
   ]
  },
  {
   "cell_type": "markdown",
   "metadata": {},
   "source": [
    "## Text Inputs"
   ]
  },
  {
   "cell_type": "code",
   "execution_count": 1,
   "metadata": {},
   "outputs": [],
   "source": [
    "with open(\"data.txt\", \"r\") as f:\n",
    "    TEXT = f.read()\n",
    "    \n",
    "TEXT2 = \"\"\"\n",
    "abcdefghijklmnopqurtuvwxyz\n",
    "ABCDEFGHIJKLMNOPQRSTUVWXYZ\n",
    "1234567890\n",
    "\n",
    "Ha HaHa\n",
    "\n",
    "MetaCharacters (Need to be escaped):\n",
    ". ^ $ * + ? { } [ ] \\ | ( )\n",
    "\n",
    "coreyms.com\n",
    "\n",
    "321--555-4321\n",
    "321-555-4321\n",
    "123.555.1234\n",
    "123*555*1234\n",
    "800-555-1234\n",
    "900-555-1234\n",
    "\n",
    "Mr. Schafer\n",
    "Mr Smith\n",
    "Ms Davis\n",
    "Mrs. Robinson\n",
    "Mr. T\n",
    "\n",
    "cat\n",
    "mat\n",
    "pat\n",
    "bat\n",
    "\"\"\""
   ]
  },
  {
   "cell_type": "markdown",
   "metadata": {},
   "source": [
    "## Code Snippets"
   ]
  },
  {
   "cell_type": "code",
   "execution_count": 2,
   "metadata": {},
   "outputs": [],
   "source": [
    "import re"
   ]
  },
  {
   "cell_type": "code",
   "execution_count": 3,
   "metadata": {},
   "outputs": [],
   "source": [
    "def print_matches(matches, text):\n",
    "    for index, match in enumerate(matches):\n",
    "        if index == 5:\n",
    "            break\n",
    "        \n",
    "        start = match.span(0)[0]\n",
    "        end = match.span(0)[1]\n",
    "        \n",
    "        print(f\"--- RESULT {index + 1} ---\")\n",
    "        print(f\"OBJECT: {match}\")\n",
    "        print(f\"INDICES: {match.span(0)}\")\n",
    "        print(f\"STRING: {text[start:end]}\")\n",
    "        print(\"\\n\")"
   ]
  },
  {
   "cell_type": "markdown",
   "metadata": {},
   "source": [
    "### A. Phone Patterns"
   ]
  },
  {
   "cell_type": "code",
   "execution_count": 4,
   "metadata": {
    "scrolled": false
   },
   "outputs": [
    {
     "name": "stdout",
     "output_type": "stream",
     "text": [
      "--- RESULT 1 ---\n",
      "OBJECT: <re.Match object; span=(12, 24), match='615-555-7164'>\n",
      "INDICES: (12, 24)\n",
      "STRING: 615-555-7164\n",
      "\n",
      "\n",
      "--- RESULT 2 ---\n",
      "OBJECT: <re.Match object; span=(102, 114), match='800-555-5669'>\n",
      "INDICES: (102, 114)\n",
      "STRING: 800-555-5669\n",
      "\n",
      "\n",
      "--- RESULT 3 ---\n",
      "OBJECT: <re.Match object; span=(191, 203), match='560-555-5153'>\n",
      "INDICES: (191, 203)\n",
      "STRING: 560-555-5153\n",
      "\n",
      "\n",
      "--- RESULT 4 ---\n",
      "OBJECT: <re.Match object; span=(281, 293), match='900-555-9340'>\n",
      "INDICES: (281, 293)\n",
      "STRING: 900-555-9340\n",
      "\n",
      "\n",
      "--- RESULT 5 ---\n",
      "OBJECT: <re.Match object; span=(378, 390), match='714-555-7405'>\n",
      "INDICES: (378, 390)\n",
      "STRING: 714-555-7405\n",
      "\n",
      "\n"
     ]
    }
   ],
   "source": [
    "pattern = re.compile(r\"\\d{3}.\\d{3}.\\d{4}\")\n",
    "matches = pattern.finditer(TEXT)\n",
    "print_matches(matches, TEXT)"
   ]
  },
  {
   "cell_type": "code",
   "execution_count": 5,
   "metadata": {},
   "outputs": [
    {
     "name": "stdout",
     "output_type": "stream",
     "text": [
      "--- RESULT 1 ---\n",
      "OBJECT: <re.Match object; span=(12, 23), match='615-555-716'>\n",
      "INDICES: (12, 23)\n",
      "STRING: 615-555-716\n",
      "\n",
      "\n",
      "--- RESULT 2 ---\n",
      "OBJECT: <re.Match object; span=(102, 113), match='800-555-566'>\n",
      "INDICES: (102, 113)\n",
      "STRING: 800-555-566\n",
      "\n",
      "\n",
      "--- RESULT 3 ---\n",
      "OBJECT: <re.Match object; span=(191, 202), match='560-555-515'>\n",
      "INDICES: (191, 202)\n",
      "STRING: 560-555-515\n",
      "\n",
      "\n",
      "--- RESULT 4 ---\n",
      "OBJECT: <re.Match object; span=(281, 292), match='900-555-934'>\n",
      "INDICES: (281, 292)\n",
      "STRING: 900-555-934\n",
      "\n",
      "\n",
      "--- RESULT 5 ---\n",
      "OBJECT: <re.Match object; span=(378, 389), match='714-555-740'>\n",
      "INDICES: (378, 389)\n",
      "STRING: 714-555-740\n",
      "\n",
      "\n"
     ]
    }
   ],
   "source": [
    "pattern = re.compile(r\"\\d{3}[-.]\\d{3}[-.]\\d{3}\")\n",
    "matches = pattern.finditer(TEXT)\n",
    "print_matches(matches, TEXT)"
   ]
  },
  {
   "cell_type": "code",
   "execution_count": 6,
   "metadata": {
    "scrolled": false
   },
   "outputs": [
    {
     "name": "stdout",
     "output_type": "stream",
     "text": [
      "--- RESULT 1 ---\n",
      "OBJECT: <re.Match object; span=(102, 114), match='800-555-5669'>\n",
      "INDICES: (102, 114)\n",
      "STRING: 800-555-5669\n",
      "\n",
      "\n",
      "--- RESULT 2 ---\n",
      "OBJECT: <re.Match object; span=(281, 293), match='900-555-9340'>\n",
      "INDICES: (281, 293)\n",
      "STRING: 900-555-9340\n",
      "\n",
      "\n",
      "--- RESULT 3 ---\n",
      "OBJECT: <re.Match object; span=(467, 479), match='800-555-6771'>\n",
      "INDICES: (467, 479)\n",
      "STRING: 800-555-6771\n",
      "\n",
      "\n",
      "--- RESULT 4 ---\n",
      "OBJECT: <re.Match object; span=(1091, 1103), match='900-555-3205'>\n",
      "INDICES: (1091, 1103)\n",
      "STRING: 900-555-3205\n",
      "\n",
      "\n",
      "--- RESULT 5 ---\n",
      "OBJECT: <re.Match object; span=(1439, 1451), match='800-555-6089'>\n",
      "INDICES: (1439, 1451)\n",
      "STRING: 800-555-6089\n",
      "\n",
      "\n"
     ]
    }
   ],
   "source": [
    "pattern = re.compile(r\"[89]00.\\d{3}.\\d{4}\")\n",
    "matches = pattern.finditer(TEXT)\n",
    "print_matches(matches, TEXT)"
   ]
  },
  {
   "cell_type": "markdown",
   "metadata": {},
   "source": [
    "### B. Digit Range Pattern"
   ]
  },
  {
   "cell_type": "code",
   "execution_count": 7,
   "metadata": {
    "scrolled": true
   },
   "outputs": [
    {
     "name": "stdout",
     "output_type": "stream",
     "text": [
      "--- RESULT 1 ---\n",
      "OBJECT: <re.Match object; span=(13, 14), match='1'>\n",
      "INDICES: (13, 14)\n",
      "STRING: 1\n",
      "\n",
      "\n",
      "--- RESULT 2 ---\n",
      "OBJECT: <re.Match object; span=(14, 15), match='5'>\n",
      "INDICES: (14, 15)\n",
      "STRING: 5\n",
      "\n",
      "\n",
      "--- RESULT 3 ---\n",
      "OBJECT: <re.Match object; span=(16, 17), match='5'>\n",
      "INDICES: (16, 17)\n",
      "STRING: 5\n",
      "\n",
      "\n",
      "--- RESULT 4 ---\n",
      "OBJECT: <re.Match object; span=(17, 18), match='5'>\n",
      "INDICES: (17, 18)\n",
      "STRING: 5\n",
      "\n",
      "\n",
      "--- RESULT 5 ---\n",
      "OBJECT: <re.Match object; span=(18, 19), match='5'>\n",
      "INDICES: (18, 19)\n",
      "STRING: 5\n",
      "\n",
      "\n"
     ]
    }
   ],
   "source": [
    "pattern = re.compile(r\"[1-5]\")\n",
    "matches = pattern.finditer(TEXT)\n",
    "print_matches(matches, TEXT)"
   ]
  },
  {
   "cell_type": "markdown",
   "metadata": {},
   "source": [
    "### C. Letter Range Pattern"
   ]
  },
  {
   "cell_type": "code",
   "execution_count": 8,
   "metadata": {
    "scrolled": true
   },
   "outputs": [
    {
     "name": "stdout",
     "output_type": "stream",
     "text": [
      "--- RESULT 1 ---\n",
      "OBJECT: <re.Match object; span=(0, 1), match='D'>\n",
      "INDICES: (0, 1)\n",
      "STRING: D\n",
      "\n",
      "\n",
      "--- RESULT 2 ---\n",
      "OBJECT: <re.Match object; span=(1, 2), match='a'>\n",
      "INDICES: (1, 2)\n",
      "STRING: a\n",
      "\n",
      "\n",
      "--- RESULT 3 ---\n",
      "OBJECT: <re.Match object; span=(2, 3), match='v'>\n",
      "INDICES: (2, 3)\n",
      "STRING: v\n",
      "\n",
      "\n",
      "--- RESULT 4 ---\n",
      "OBJECT: <re.Match object; span=(3, 4), match='e'>\n",
      "INDICES: (3, 4)\n",
      "STRING: e\n",
      "\n",
      "\n",
      "--- RESULT 5 ---\n",
      "OBJECT: <re.Match object; span=(5, 6), match='M'>\n",
      "INDICES: (5, 6)\n",
      "STRING: M\n",
      "\n",
      "\n"
     ]
    }
   ],
   "source": [
    "pattern = re.compile(r\"[a-zA-Z]\")\n",
    "matches = pattern.finditer(TEXT)\n",
    "print_matches(matches, TEXT)"
   ]
  },
  {
   "cell_type": "markdown",
   "metadata": {},
   "source": [
    "### D. Negate Range Patterns"
   ]
  },
  {
   "cell_type": "code",
   "execution_count": 9,
   "metadata": {},
   "outputs": [
    {
     "name": "stdout",
     "output_type": "stream",
     "text": [
      "--- RESULT 1 ---\n",
      "OBJECT: <re.Match object; span=(4, 5), match=' '>\n",
      "INDICES: (4, 5)\n",
      "STRING:  \n",
      "\n",
      "\n",
      "--- RESULT 2 ---\n",
      "OBJECT: <re.Match object; span=(11, 12), match='\\n'>\n",
      "INDICES: (11, 12)\n",
      "STRING: \n",
      "\n",
      "\n",
      "\n",
      "--- RESULT 3 ---\n",
      "OBJECT: <re.Match object; span=(12, 13), match='6'>\n",
      "INDICES: (12, 13)\n",
      "STRING: 6\n",
      "\n",
      "\n",
      "--- RESULT 4 ---\n",
      "OBJECT: <re.Match object; span=(13, 14), match='1'>\n",
      "INDICES: (13, 14)\n",
      "STRING: 1\n",
      "\n",
      "\n",
      "--- RESULT 5 ---\n",
      "OBJECT: <re.Match object; span=(14, 15), match='5'>\n",
      "INDICES: (14, 15)\n",
      "STRING: 5\n",
      "\n",
      "\n"
     ]
    }
   ],
   "source": [
    "pattern = re.compile(r\"[^a-zA-Z]\")\n",
    "matches = pattern.finditer(TEXT)\n",
    "print_matches(matches, TEXT)"
   ]
  },
  {
   "cell_type": "code",
   "execution_count": 10,
   "metadata": {
    "scrolled": true
   },
   "outputs": [
    {
     "name": "stdout",
     "output_type": "stream",
     "text": [
      "--- RESULT 1 ---\n",
      "OBJECT: <re.Match object; span=(286, 289), match='cat'>\n",
      "INDICES: (286, 289)\n",
      "STRING: cat\n",
      "\n",
      "\n",
      "--- RESULT 2 ---\n",
      "OBJECT: <re.Match object; span=(290, 293), match='mat'>\n",
      "INDICES: (290, 293)\n",
      "STRING: mat\n",
      "\n",
      "\n",
      "--- RESULT 3 ---\n",
      "OBJECT: <re.Match object; span=(294, 297), match='pat'>\n",
      "INDICES: (294, 297)\n",
      "STRING: pat\n",
      "\n",
      "\n"
     ]
    }
   ],
   "source": [
    "pattern = re.compile(r\"[^b]at\")\n",
    "matches = pattern.finditer(TEXT2)\n",
    "print_matches(matches, TEXT2)"
   ]
  },
  {
   "cell_type": "markdown",
   "metadata": {},
   "source": [
    "### E. Name Patterns"
   ]
  },
  {
   "cell_type": "code",
   "execution_count": 11,
   "metadata": {},
   "outputs": [
    {
     "name": "stdout",
     "output_type": "stream",
     "text": [
      "--- RESULT 1 ---\n",
      "OBJECT: <re.Match object; span=(235, 246), match='Mr. Schafer'>\n",
      "INDICES: (235, 246)\n",
      "STRING: Mr. Schafer\n",
      "\n",
      "\n",
      "--- RESULT 2 ---\n",
      "OBJECT: <re.Match object; span=(247, 255), match='Mr Smith'>\n",
      "INDICES: (247, 255)\n",
      "STRING: Mr Smith\n",
      "\n",
      "\n",
      "--- RESULT 3 ---\n",
      "OBJECT: <re.Match object; span=(279, 284), match='Mr. T'>\n",
      "INDICES: (279, 284)\n",
      "STRING: Mr. T\n",
      "\n",
      "\n"
     ]
    }
   ],
   "source": [
    "pattern = re.compile(r\"Mr\\.?\\s[A-Z]\\w*\")\n",
    "matches = pattern.finditer(TEXT2)\n",
    "print_matches(matches, TEXT2)"
   ]
  },
  {
   "cell_type": "code",
   "execution_count": 12,
   "metadata": {
    "scrolled": true
   },
   "outputs": [
    {
     "name": "stdout",
     "output_type": "stream",
     "text": [
      "--- RESULT 1 ---\n",
      "OBJECT: <re.Match object; span=(235, 246), match='Mr. Schafer'>\n",
      "INDICES: (235, 246)\n",
      "STRING: Mr. Schafer\n",
      "\n",
      "\n",
      "--- RESULT 2 ---\n",
      "OBJECT: <re.Match object; span=(247, 255), match='Mr Smith'>\n",
      "INDICES: (247, 255)\n",
      "STRING: Mr Smith\n",
      "\n",
      "\n",
      "--- RESULT 3 ---\n",
      "OBJECT: <re.Match object; span=(256, 264), match='Ms Davis'>\n",
      "INDICES: (256, 264)\n",
      "STRING: Ms Davis\n",
      "\n",
      "\n",
      "--- RESULT 4 ---\n",
      "OBJECT: <re.Match object; span=(265, 278), match='Mrs. Robinson'>\n",
      "INDICES: (265, 278)\n",
      "STRING: Mrs. Robinson\n",
      "\n",
      "\n",
      "--- RESULT 5 ---\n",
      "OBJECT: <re.Match object; span=(279, 284), match='Mr. T'>\n",
      "INDICES: (279, 284)\n",
      "STRING: Mr. T\n",
      "\n",
      "\n"
     ]
    }
   ],
   "source": [
    "pattern = re.compile(r\"M(r|s|rs)\\.?\\s[A-Z]\\w*\")\n",
    "matches = pattern.finditer(TEXT2)\n",
    "print_matches(matches, TEXT2)"
   ]
  },
  {
   "cell_type": "markdown",
   "metadata": {},
   "source": [
    "## Other Examples"
   ]
  },
  {
   "cell_type": "markdown",
   "metadata": {},
   "source": [
    "### A. Emails"
   ]
  },
  {
   "cell_type": "code",
   "execution_count": 13,
   "metadata": {},
   "outputs": [
    {
     "name": "stdout",
     "output_type": "stream",
     "text": [
      "--- RESULT 1 ---\n",
      "OBJECT: <re.Match object; span=(1, 24), match='CoreyMSchafer@gmail.com'>\n",
      "INDICES: (1, 24)\n",
      "STRING: CoreyMSchafer@gmail.com\n",
      "\n",
      "\n",
      "--- RESULT 2 ---\n",
      "OBJECT: <re.Match object; span=(25, 53), match='corey.schafer@university.edu'>\n",
      "INDICES: (25, 53)\n",
      "STRING: corey.schafer@university.edu\n",
      "\n",
      "\n",
      "--- RESULT 3 ---\n",
      "OBJECT: <re.Match object; span=(54, 83), match='corey-321-schafer@my-work.net'>\n",
      "INDICES: (54, 83)\n",
      "STRING: corey-321-schafer@my-work.net\n",
      "\n",
      "\n"
     ]
    }
   ],
   "source": [
    "emails = \"\"\"\n",
    "CoreyMSchafer@gmail.com\n",
    "corey.schafer@university.edu\n",
    "corey-321-schafer@my-work.net\n",
    "\"\"\"\n",
    "\n",
    "pattern = re.compile(r\"[a-zA-Z0-9.-]+@[a-zA-Z-]+\\.(com|edu|net)+\")\n",
    "matches = pattern.finditer(emails)\n",
    "# also try: [a-zA-Z0-9_.+-]+@[a-zA-Z0-9-]+\\.[a-zA-Z0-9-.]+\n",
    "\n",
    "print_matches(matches, emails)"
   ]
  },
  {
   "cell_type": "markdown",
   "metadata": {},
   "source": [
    "### B. URLs"
   ]
  },
  {
   "cell_type": "code",
   "execution_count": 14,
   "metadata": {},
   "outputs": [
    {
     "name": "stdout",
     "output_type": "stream",
     "text": [
      "SUBBED URLs: \n",
      "google.com\n",
      "coreyms.com\n",
      "youtube.com\n",
      "nasa.gov\n",
      "\n",
      "GROUP 0: https://www.google.com\n",
      "GROUP 1: www.\n",
      "GROUP 2: google\n",
      "GROUP 3: .com\n",
      "\n",
      "\n",
      "GROUP 0: http://coreyms.com\n",
      "GROUP 1: None\n",
      "GROUP 2: coreyms\n",
      "GROUP 3: .com\n",
      "\n",
      "\n",
      "GROUP 0: https://youtube.com\n",
      "GROUP 1: None\n",
      "GROUP 2: youtube\n",
      "GROUP 3: .com\n",
      "\n",
      "\n",
      "GROUP 0: https://www.nasa.gov\n",
      "GROUP 1: www.\n",
      "GROUP 2: nasa\n",
      "GROUP 3: .gov\n",
      "\n",
      "\n"
     ]
    }
   ],
   "source": [
    "urls = \"\"\"\n",
    "https://www.google.com\n",
    "http://coreyms.com\n",
    "https://youtube.com\n",
    "https://www.nasa.gov\n",
    "\"\"\"\n",
    "\n",
    "# group 0 is the entire URL\n",
    "# group 1 is the www. subdomain\n",
    "# group 2 is the host name\n",
    "# group 3 is the extension\n",
    "\n",
    "pattern = re.compile(r\"https?://(www\\.)?(\\w+)(\\.\\w+)\")\n",
    "subbed_urls = pattern.sub(r\"\\2\\3\", urls)\n",
    "print(f\"SUBBED URLs: {subbed_urls}\")\n",
    "\n",
    "matches = pattern.finditer(urls)\n",
    "for match in matches:\n",
    "    print(f\"GROUP 0: {match.group(0)}\")\n",
    "    print(f\"GROUP 1: {match.group(1)}\")\n",
    "    print(f\"GROUP 2: {match.group(2)}\")\n",
    "    print(f\"GROUP 3: {match.group(3)}\")\n",
    "    print(\"\\n\")"
   ]
  }
 ],
 "metadata": {
  "kernelspec": {
   "display_name": "Python 3",
   "language": "python",
   "name": "python3"
  },
  "language_info": {
   "codemirror_mode": {
    "name": "ipython",
    "version": 3
   },
   "file_extension": ".py",
   "mimetype": "text/x-python",
   "name": "python",
   "nbconvert_exporter": "python",
   "pygments_lexer": "ipython3",
   "version": "3.7.0"
  }
 },
 "nbformat": 4,
 "nbformat_minor": 4
}
